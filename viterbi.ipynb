{
 "cells": [
  {
   "cell_type": "markdown",
   "metadata": {},
   "source": [
    "# Homework II: Artificial Intelligence Topics\n",
    "## Viterbi algorithm in Hiden Markov Model\n",
    "\n",
    "by Isaías Huerta Vargas\n",
    "\n",
    "Universidad de Concepción\n",
    "\n",
    "Computer Science Department"
   ]
  },
  {
   "cell_type": "markdown",
   "metadata": {},
   "source": [
    "## Goal\n",
    "\n",
    "The work consists of implementing the **viterbi algorithm** to find the most likely path for an agent in a 2D grid, given a sequence of observations."
   ]
  },
  {
   "cell_type": "markdown",
   "metadata": {},
   "source": [
    "## Setup"
   ]
  },
  {
   "cell_type": "code",
   "execution_count": 328,
   "metadata": {},
   "outputs": [],
   "source": [
    "import numpy as np\n",
    "from termcolor import colored"
   ]
  },
  {
   "cell_type": "markdown",
   "metadata": {},
   "source": [
    "### States"
   ]
  },
  {
   "cell_type": "code",
   "execution_count": 329,
   "metadata": {},
   "outputs": [],
   "source": [
    "\"\"\"\n",
    "Map:\n",
    "\n",
    "   1  2  3  4  5  6  7  8  9 10 11 12 13 14 15 16\n",
    "  _______________________________________________\n",
    "1 |0, 0, 0, 0, 1, 0, 0, 0, 0, 0, 1, 0, 0, 0, 1, 0|\n",
    "2 |1, 1, 0, 0, 1, 0, 1, 1, 0, 1, 0, 1, 0, 1, 1, 1|\n",
    "3 |1, 0, 0, 0, 1, 0, 1, 1, 0, 0, 0, 0, 0, 1, 1, 0|\n",
    "4 |0, 0, 1, 0, 0, 0, 1, 0, 0, 0, 0, 1, 0, 0, 0, 0|\n",
    "  ------------------------------------------------\n",
    "\"\"\"\n",
    "states = (\n",
    "        [1,1],[1,2],[1,3],[1,4],      [1,6],[1,7],[1,8],[1,9],[1,10],       [1,12],[1,13],[1,14],       [1,16],\n",
    "                    [2,3],[2,4],      [2,6],            [2,9],       [2,11],       [2,13],\n",
    "              [3,2],[3,3],[3,4],      [3,6],            [3,9],[3,10],[3,11],[3,12],[3,13],              [3,16],\n",
    "        [4,1],[4,2],      [4,4],[4,5],[4,6],      [4,8],[4,9],[4,10],[4,11],       [4,13],[4,14],[4,15],[4,16],\n",
    ")\n",
    "\n",
    "n_states = len(states) # 42"
   ]
  },
  {
   "cell_type": "markdown",
   "metadata": {},
   "source": [
    "### Observations\n",
    "**Nomenclature:** [N, E, S, W], 1 if there is wall, 0 if not."
   ]
  },
  {
   "cell_type": "code",
   "execution_count": 330,
   "metadata": {},
   "outputs": [],
   "source": [
    "observation_space = (\n",
    "    [1,0,0,0],[0,1,0,0],[0,0,1,0],[0,0,0,1], # One wall\n",
    "    [1,0,1,0],[0,1,0,1],                     # Two parallel walls\n",
    "    [1,1,0,0],[0,1,1,0],[0,0,1,1],[1,0,0,1], # Two diagonal walls\n",
    "    [0,1,1,1],[1,0,1,1],[1,1,0,1],[1,1,1,0], # Three walls\n",
    "    [0,0,0,0],[1,1,1,1]                      # Open and closed\n",
    ")\n",
    "\n",
    "n_obs = len(observation_space) # 16\n",
    "        "
   ]
  },
  {
   "cell_type": "markdown",
   "metadata": {},
   "source": [
    "### Transition and Emission matrix\n",
    "Creating:\n",
    "* A(n_states x n_states): **transition matrix**. $A_{ij}$ stores the transition probability of transiting from state $s_{i}$ to state $s_{j}$ \n",
    "* B(n_states x n_obs): **emission matrix**. $B_{ij}$ stores the probability of observing $o_{j}$ from state $ s_{i}$"
   ]
  },
  {
   "cell_type": "code",
   "execution_count": 331,
   "metadata": {},
   "outputs": [],
   "source": [
    "A = np.zeros((n_states, n_states))\n",
    "B = np.zeros((n_states, n_obs))\n",
    "def createMatrix(epsilon):\n",
    "    for num, pair in enumerate(states):\n",
    "        i,j = pair\n",
    "        aux = np.zeros(n_states)\n",
    "        obs_aux = [1,1,1,1]\n",
    "        if [i-1,j] in states: #no North wall\n",
    "            aux[states.index([i-1,j])]=1\n",
    "            obs_aux[0] = 0\n",
    "        if [i,j+1] in states: #no East wall\n",
    "            aux[states.index([i,j+1])]=1\n",
    "            obs_aux[1] = 0\n",
    "        if [i+1,j] in states: #no South wall\n",
    "            aux[states.index([i+1,j])]=1\n",
    "            obs_aux[2] = 0\n",
    "        if [i,j-1] in states: #no West wall\n",
    "            aux[states.index([i,j-1])]=1\n",
    "            obs_aux[3] = 0\n",
    "        if sum(aux) > 0:\n",
    "            aux = [float(i)/sum(aux) for i in aux] # normalizing\n",
    "\n",
    "        A[num,:] = aux\n",
    "        for o in observation_space:\n",
    "            diff = 0\n",
    "            for real, sensor in zip(o, obs_aux):\n",
    "                if real != sensor: # counting differences\n",
    "                    diff = diff + 1\n",
    "            B[num][observation_space.index(o)] = ((1 - epsilon) ** (4-diff)) * (epsilon ** diff) # sensor model\n",
    "\n",
    "        for n,arr in enumerate(B):\n",
    "            if sum(arr) > 0:\n",
    "                B[n] = [float(i)/sum(arr) for i in arr] # normalizing"
   ]
  },
  {
   "cell_type": "markdown",
   "metadata": {},
   "source": [
    "### Initial Probabilities\n",
    "All states have equal probability at the beginning"
   ]
  },
  {
   "cell_type": "code",
   "execution_count": 332,
   "metadata": {},
   "outputs": [],
   "source": [
    "pi = np.array([1/n_states]*n_states)"
   ]
  },
  {
   "cell_type": "markdown",
   "metadata": {},
   "source": [
    "## Viterbi\n",
    "Returns the most likely state sequence given observed sequence x. Implementation based on [Wikipedia's pseudocode](https://en.wikipedia.org/wiki/Viterbi_algorithm#Pseudocode)"
   ]
  },
  {
   "cell_type": "code",
   "execution_count": 333,
   "metadata": {},
   "outputs": [],
   "source": [
    "def viterbi(obs, epsilon):\n",
    "    createMatrix(epsilon)\n",
    "    T = len(obs) # observation size\n",
    "    T1 = np.zeros((T, n_states)) # probability of the most likely path so far\n",
    "    T2 = np.zeros((T, n_states))\n",
    "    T1[0] = pi*B[:, observation_space.index(obs[0])] # first observation probability\n",
    "    for i in range(1, T): # for each observation\n",
    "        for j in range(n_states): \n",
    "            T1[i,j] = np.max(T1[i-1] * A[:,j] * B[j, observation_space.index(obs[i])])\n",
    "            T2[i,j] = np.argmax(T1[i-1] * A[:,j] * B[j, observation_space.index(obs[i])])\n",
    "    \n",
    "    states_seq = np.zeros(T, dtype=np.int) # states path\n",
    "    states_seq_prob = [0]*T                # states path probability\n",
    "    states_seq[-1] = np.argmax(T1[-1])\n",
    "    states_seq_prob[-1] = np.max(T1[-1])\n",
    "    for i in range(T-2, -1, -1): # backtrack\n",
    "        states_seq[i] = T2[i+1, states_seq[i+1]]\n",
    "        states_seq_prob[i] = T1[i+1, states_seq[i+1]]\n",
    "    \n",
    "    wumpus_prob = T1[-1, states.index([1,10])]/sum(T1[-1]) #wumpus\n",
    "    gold_prob = T1[-1, states.index([3,16])]/sum(T1[-1]) #gold\n",
    "    return wumpus_prob, gold_prob, states_seq, states_seq_prob"
   ]
  },
  {
   "cell_type": "markdown",
   "metadata": {},
   "source": [
    "### Graphical map\n",
    "\n",
    "* Grey: states\n",
    "* Black: walls\n",
    "* Red: wumpus\n",
    "* Yellow: gold\n",
    "* Green: path expected\n"
   ]
  },
  {
   "cell_type": "code",
   "execution_count": 334,
   "metadata": {
    "scrolled": true
   },
   "outputs": [],
   "source": [
    "def graph(path):\n",
    "    for i in range(1,5):\n",
    "        for j in range(1,17):\n",
    "            if [i,j] == [3,16]:\n",
    "                print(colored(u\"\\u2588\",\"yellow\"),\" \", end='')\n",
    "            elif [i,j] == [1,10]:\n",
    "                print(colored(u\"\\u2588\",\"red\"),\" \", end='')\n",
    "            elif [i,j] in path:\n",
    "                print(colored(u\"\\u2588\",\"green\"),\" \", end='')\n",
    "            elif [i,j] not in states:\n",
    "                print(u\"\\u2588\",\" \", end='')\n",
    "            else:\n",
    "                print(colored(u\"\\u2588\", \"white\"),\" \", end='')\n",
    "        print()\n",
    "        print()"
   ]
  },
  {
   "cell_type": "markdown",
   "metadata": {},
   "source": [
    "# Tests and Answers\n",
    "\n",
    "There are **eight** experiments, 4 observations * 2 epsilon, where for each one is given:\n",
    "* The expected path and associated probability \n",
    "* Probability that the robot finishes in the wumpus or in the gold\n"
   ]
  },
  {
   "cell_type": "markdown",
   "metadata": {},
   "source": [
    "## E1 and Epsilon = 0.2"
   ]
  },
  {
   "cell_type": "code",
   "execution_count": 335,
   "metadata": {},
   "outputs": [
    {
     "name": "stdout",
     "output_type": "stream",
     "text": [
      "\u001b[37m█\u001b[0m  \u001b[37m█\u001b[0m  \u001b[37m█\u001b[0m  \u001b[37m█\u001b[0m  █  \u001b[32m█\u001b[0m  \u001b[32m█\u001b[0m  \u001b[32m█\u001b[0m  \u001b[37m█\u001b[0m  \u001b[31m█\u001b[0m  █  \u001b[37m█\u001b[0m  \u001b[37m█\u001b[0m  \u001b[37m█\u001b[0m  █  \u001b[37m█\u001b[0m  \n",
      "\n",
      "█  █  \u001b[37m█\u001b[0m  \u001b[37m█\u001b[0m  █  \u001b[37m█\u001b[0m  █  █  \u001b[37m█\u001b[0m  █  \u001b[37m█\u001b[0m  █  \u001b[37m█\u001b[0m  █  █  █  \n",
      "\n",
      "█  \u001b[37m█\u001b[0m  \u001b[37m█\u001b[0m  \u001b[37m█\u001b[0m  █  \u001b[37m█\u001b[0m  █  █  \u001b[37m█\u001b[0m  \u001b[37m█\u001b[0m  \u001b[37m█\u001b[0m  \u001b[37m█\u001b[0m  \u001b[37m█\u001b[0m  █  █  \u001b[33m█\u001b[0m  \n",
      "\n",
      "\u001b[37m█\u001b[0m  \u001b[37m█\u001b[0m  █  \u001b[37m█\u001b[0m  \u001b[37m█\u001b[0m  \u001b[37m█\u001b[0m  █  \u001b[37m█\u001b[0m  \u001b[37m█\u001b[0m  \u001b[37m█\u001b[0m  \u001b[37m█\u001b[0m  █  \u001b[37m█\u001b[0m  \u001b[37m█\u001b[0m  \u001b[37m█\u001b[0m  \u001b[37m█\u001b[0m  \n",
      "\n",
      "Sensor input: [[1, 0, 1, 0], [1, 0, 1, 0], [1, 0, 1, 0], [1, 1, 0, 1]]\n",
      "Expected path: [[1, 7], [1, 8], [1, 7], [1, 6]]\n",
      "Associated probability: [0.001997287619047619, 0.0004090445043809523, 2.094307862430476e-05, 2.094307862430476e-05]\n",
      "Wumpus probability: 0.016028320874253085\n",
      "Gold probability: 0.09616992524551848\n"
     ]
    }
   ],
   "source": [
    "#            NS        NS        NS        NWE\n",
    "sensor = [[1,0,1,0],[1,0,1,0],[1,0,1,0],[1,1,0,1]]\n",
    "\n",
    "wumpus, gold, path, prob = viterbi(sensor, 0.2)\n",
    "path = list(map(lambda s: states[s], path))\n",
    "graph(path)\n",
    "print(\"Sensor input:\", sensor)\n",
    "print(\"Expected path:\", path)\n",
    "print(\"Associated probability:\", prob)\n",
    "print(\"Wumpus probability:\", wumpus)\n",
    "print(\"Gold probability:\", gold)"
   ]
  },
  {
   "cell_type": "markdown",
   "metadata": {},
   "source": [
    "## E1 and Epsilon = 0.05"
   ]
  },
  {
   "cell_type": "code",
   "execution_count": 336,
   "metadata": {},
   "outputs": [
    {
     "name": "stdout",
     "output_type": "stream",
     "text": [
      "\u001b[37m█\u001b[0m  \u001b[37m█\u001b[0m  \u001b[37m█\u001b[0m  \u001b[37m█\u001b[0m  █  \u001b[32m█\u001b[0m  \u001b[32m█\u001b[0m  \u001b[32m█\u001b[0m  \u001b[37m█\u001b[0m  \u001b[31m█\u001b[0m  █  \u001b[37m█\u001b[0m  \u001b[37m█\u001b[0m  \u001b[37m█\u001b[0m  █  \u001b[37m█\u001b[0m  \n",
      "\n",
      "█  █  \u001b[37m█\u001b[0m  \u001b[37m█\u001b[0m  █  \u001b[37m█\u001b[0m  █  █  \u001b[37m█\u001b[0m  █  \u001b[37m█\u001b[0m  █  \u001b[37m█\u001b[0m  █  █  █  \n",
      "\n",
      "█  \u001b[37m█\u001b[0m  \u001b[37m█\u001b[0m  \u001b[37m█\u001b[0m  █  \u001b[37m█\u001b[0m  █  █  \u001b[37m█\u001b[0m  \u001b[37m█\u001b[0m  \u001b[37m█\u001b[0m  \u001b[37m█\u001b[0m  \u001b[37m█\u001b[0m  █  █  \u001b[33m█\u001b[0m  \n",
      "\n",
      "\u001b[37m█\u001b[0m  \u001b[37m█\u001b[0m  █  \u001b[37m█\u001b[0m  \u001b[37m█\u001b[0m  \u001b[37m█\u001b[0m  █  \u001b[37m█\u001b[0m  \u001b[37m█\u001b[0m  \u001b[37m█\u001b[0m  \u001b[37m█\u001b[0m  █  \u001b[37m█\u001b[0m  \u001b[37m█\u001b[0m  \u001b[37m█\u001b[0m  \u001b[37m█\u001b[0m  \n",
      "\n",
      "Sensor input: [[1, 0, 1, 0], [1, 0, 1, 0], [1, 0, 1, 0], [1, 1, 0, 1]]\n",
      "Expected path: [[1, 7], [1, 8], [1, 7], [1, 6]]\n",
      "Associated probability: [0.00789786227725075, 0.0032164290932299856, 6.894214734520149e-05, 6.894214734520149e-05]\n",
      "Wumpus probability: 0.0015690212732910266\n",
      "Gold probability: 0.044717106288794245\n"
     ]
    }
   ],
   "source": [
    "#            NS        NS        NS        NWE\n",
    "sensor = [[1,0,1,0],[1,0,1,0],[1,0,1,0],[1,1,0,1]]\n",
    "\n",
    "wumpus, gold, path, prob = viterbi(sensor, 0.05)\n",
    "path = list(map(lambda s: states[s], path))\n",
    "graph(path)\n",
    "print(\"Sensor input:\", sensor)\n",
    "print(\"Expected path:\", path)\n",
    "print(\"Associated probability:\", prob)\n",
    "print(\"Wumpus probability:\", wumpus)\n",
    "print(\"Gold probability:\", gold)"
   ]
  },
  {
   "cell_type": "markdown",
   "metadata": {},
   "source": [
    "## E2 and Epsilon = 0.2"
   ]
  },
  {
   "cell_type": "code",
   "execution_count": 337,
   "metadata": {
    "scrolled": true
   },
   "outputs": [
    {
     "name": "stdout",
     "output_type": "stream",
     "text": [
      "\u001b[37m█\u001b[0m  \u001b[37m█\u001b[0m  \u001b[37m█\u001b[0m  \u001b[37m█\u001b[0m  █  \u001b[37m█\u001b[0m  \u001b[32m█\u001b[0m  \u001b[32m█\u001b[0m  \u001b[37m█\u001b[0m  \u001b[31m█\u001b[0m  █  \u001b[37m█\u001b[0m  \u001b[37m█\u001b[0m  \u001b[37m█\u001b[0m  █  \u001b[37m█\u001b[0m  \n",
      "\n",
      "█  █  \u001b[37m█\u001b[0m  \u001b[37m█\u001b[0m  █  \u001b[37m█\u001b[0m  █  █  \u001b[37m█\u001b[0m  █  \u001b[37m█\u001b[0m  █  \u001b[37m█\u001b[0m  █  █  █  \n",
      "\n",
      "█  \u001b[37m█\u001b[0m  \u001b[37m█\u001b[0m  \u001b[37m█\u001b[0m  █  \u001b[37m█\u001b[0m  █  █  \u001b[37m█\u001b[0m  \u001b[37m█\u001b[0m  \u001b[37m█\u001b[0m  \u001b[37m█\u001b[0m  \u001b[37m█\u001b[0m  █  █  \u001b[33m█\u001b[0m  \n",
      "\n",
      "\u001b[37m█\u001b[0m  \u001b[37m█\u001b[0m  █  \u001b[37m█\u001b[0m  \u001b[37m█\u001b[0m  \u001b[37m█\u001b[0m  █  \u001b[37m█\u001b[0m  \u001b[37m█\u001b[0m  \u001b[37m█\u001b[0m  \u001b[37m█\u001b[0m  █  \u001b[37m█\u001b[0m  \u001b[37m█\u001b[0m  \u001b[37m█\u001b[0m  \u001b[37m█\u001b[0m  \n",
      "\n",
      "Sensor input: [[1, 0, 1, 0], [1, 0, 1, 0], [1, 1, 1, 0]]\n",
      "Expected path: [[1, 8], [1, 7], [1, 8]]\n",
      "Associated probability: [0.0019972876190476187, 0.00010226112609523811, 0.00010226112609523811]\n",
      "Wumpus probability: 0.08629698297657175\n",
      "Gold probability: 0.002022585538513401\n"
     ]
    }
   ],
   "source": [
    "#            NS        NS        NSE\n",
    "sensor = [[1,0,1,0],[1,0,1,0],[1,1,1,0]]\n",
    "\n",
    "wumpus, gold, path, prob = viterbi(sensor, 0.2)\n",
    "path = list(map(lambda s: states[s], path))\n",
    "graph(path)\n",
    "print(\"Sensor input:\", sensor)\n",
    "print(\"Expected path:\", path)\n",
    "print(\"Associated probability:\", prob)\n",
    "print(\"Wumpus probability:\", wumpus)\n",
    "print(\"Gold probability:\", gold)"
   ]
  },
  {
   "cell_type": "markdown",
   "metadata": {},
   "source": [
    "## E2 and Epsilon = 0.05"
   ]
  },
  {
   "cell_type": "code",
   "execution_count": 338,
   "metadata": {},
   "outputs": [
    {
     "name": "stdout",
     "output_type": "stream",
     "text": [
      "\u001b[37m█\u001b[0m  \u001b[37m█\u001b[0m  \u001b[37m█\u001b[0m  \u001b[37m█\u001b[0m  █  \u001b[37m█\u001b[0m  \u001b[32m█\u001b[0m  \u001b[32m█\u001b[0m  \u001b[37m█\u001b[0m  \u001b[31m█\u001b[0m  █  \u001b[37m█\u001b[0m  \u001b[37m█\u001b[0m  \u001b[37m█\u001b[0m  █  \u001b[37m█\u001b[0m  \n",
      "\n",
      "█  █  \u001b[37m█\u001b[0m  \u001b[37m█\u001b[0m  █  \u001b[37m█\u001b[0m  █  █  \u001b[37m█\u001b[0m  █  \u001b[37m█\u001b[0m  █  \u001b[37m█\u001b[0m  █  █  █  \n",
      "\n",
      "█  \u001b[37m█\u001b[0m  \u001b[37m█\u001b[0m  \u001b[37m█\u001b[0m  █  \u001b[37m█\u001b[0m  █  █  \u001b[37m█\u001b[0m  \u001b[37m█\u001b[0m  \u001b[37m█\u001b[0m  \u001b[37m█\u001b[0m  \u001b[37m█\u001b[0m  █  █  \u001b[33m█\u001b[0m  \n",
      "\n",
      "\u001b[37m█\u001b[0m  \u001b[37m█\u001b[0m  █  \u001b[37m█\u001b[0m  \u001b[37m█\u001b[0m  \u001b[37m█\u001b[0m  █  \u001b[37m█\u001b[0m  \u001b[37m█\u001b[0m  \u001b[37m█\u001b[0m  \u001b[37m█\u001b[0m  █  \u001b[37m█\u001b[0m  \u001b[37m█\u001b[0m  \u001b[37m█\u001b[0m  \u001b[37m█\u001b[0m  \n",
      "\n",
      "Sensor input: [[1, 0, 1, 0], [1, 0, 1, 0], [1, 1, 1, 0]]\n",
      "Expected path: [[1, 7], [1, 8], [1, 7]]\n",
      "Associated probability: [0.00789786227725075, 0.00016928574174894666, 0.00016928574174894666]\n",
      "Wumpus probability: 0.11191750743912617\n",
      "Gold probability: 2.4475326018178933e-05\n"
     ]
    }
   ],
   "source": [
    "#            NS        NS        NSE\n",
    "sensor = [[1,0,1,0],[1,0,1,0],[1,1,1,0]]\n",
    "\n",
    "wumpus, gold, path, prob = viterbi(sensor, 0.05)\n",
    "path = list(map(lambda s: states[s], path))\n",
    "graph(path)\n",
    "print(\"Sensor input:\", sensor)\n",
    "print(\"Expected path:\", path)\n",
    "print(\"Associated probability:\", prob)\n",
    "print(\"Wumpus probability:\", wumpus)\n",
    "print(\"Gold probability:\", gold)"
   ]
  },
  {
   "cell_type": "markdown",
   "metadata": {},
   "source": [
    "## E3 and Epsilon = 0.2"
   ]
  },
  {
   "cell_type": "code",
   "execution_count": 339,
   "metadata": {},
   "outputs": [
    {
     "name": "stdout",
     "output_type": "stream",
     "text": [
      "\u001b[37m█\u001b[0m  \u001b[37m█\u001b[0m  \u001b[37m█\u001b[0m  \u001b[37m█\u001b[0m  █  \u001b[37m█\u001b[0m  \u001b[37m█\u001b[0m  \u001b[37m█\u001b[0m  \u001b[37m█\u001b[0m  \u001b[31m█\u001b[0m  █  \u001b[37m█\u001b[0m  \u001b[37m█\u001b[0m  \u001b[37m█\u001b[0m  █  \u001b[37m█\u001b[0m  \n",
      "\n",
      "█  █  \u001b[37m█\u001b[0m  \u001b[37m█\u001b[0m  █  \u001b[32m█\u001b[0m  █  █  \u001b[37m█\u001b[0m  █  \u001b[37m█\u001b[0m  █  \u001b[37m█\u001b[0m  █  █  █  \n",
      "\n",
      "█  \u001b[37m█\u001b[0m  \u001b[37m█\u001b[0m  \u001b[37m█\u001b[0m  █  \u001b[32m█\u001b[0m  █  █  \u001b[37m█\u001b[0m  \u001b[37m█\u001b[0m  \u001b[37m█\u001b[0m  \u001b[37m█\u001b[0m  \u001b[37m█\u001b[0m  █  █  \u001b[33m█\u001b[0m  \n",
      "\n",
      "\u001b[37m█\u001b[0m  \u001b[37m█\u001b[0m  █  \u001b[37m█\u001b[0m  \u001b[32m█\u001b[0m  \u001b[32m█\u001b[0m  █  \u001b[37m█\u001b[0m  \u001b[37m█\u001b[0m  \u001b[37m█\u001b[0m  \u001b[37m█\u001b[0m  █  \u001b[37m█\u001b[0m  \u001b[37m█\u001b[0m  \u001b[37m█\u001b[0m  \u001b[37m█\u001b[0m  \n",
      "\n",
      "Sensor input: [[0, 1, 0, 1], [0, 1, 0, 1], [1, 0, 1, 0], [1, 0, 1, 0]]\n",
      "Expected path: [[2, 6], [3, 6], [4, 6], [4, 5]]\n",
      "Associated probability: [0.001997287619047619, 2.5565281523809534e-05, 5.235769656076193e-06, 5.235769656076193e-06]\n",
      "Wumpus probability: 0.022734778494098454\n",
      "Gold probability: 9.990869455414358e-05\n"
     ]
    }
   ],
   "source": [
    "#            WE         WE       NS         NS\n",
    "sensor = [[0,1,0,1],[0,1,0,1],[1,0,1,0],[1,0,1,0]]\n",
    "\n",
    "wumpus, gold, path, prob = viterbi(sensor, 0.2)\n",
    "path = list(map(lambda s: states[s], path))\n",
    "graph(path)\n",
    "print(\"Sensor input:\", sensor)\n",
    "print(\"Expected path:\", path)\n",
    "print(\"Associated probability:\", prob)\n",
    "print(\"Wumpus probability:\", wumpus)\n",
    "print(\"Gold probability:\", gold)"
   ]
  },
  {
   "cell_type": "markdown",
   "metadata": {},
   "source": [
    "## E3 and Epsilon = 0.05"
   ]
  },
  {
   "cell_type": "code",
   "execution_count": 340,
   "metadata": {},
   "outputs": [
    {
     "name": "stdout",
     "output_type": "stream",
     "text": [
      "\u001b[37m█\u001b[0m  \u001b[37m█\u001b[0m  \u001b[37m█\u001b[0m  \u001b[37m█\u001b[0m  █  \u001b[37m█\u001b[0m  \u001b[37m█\u001b[0m  \u001b[37m█\u001b[0m  \u001b[37m█\u001b[0m  \u001b[31m█\u001b[0m  █  \u001b[37m█\u001b[0m  \u001b[37m█\u001b[0m  \u001b[37m█\u001b[0m  █  \u001b[37m█\u001b[0m  \n",
      "\n",
      "█  █  \u001b[37m█\u001b[0m  \u001b[37m█\u001b[0m  █  \u001b[32m█\u001b[0m  █  █  \u001b[37m█\u001b[0m  █  \u001b[37m█\u001b[0m  █  \u001b[37m█\u001b[0m  █  █  █  \n",
      "\n",
      "█  \u001b[37m█\u001b[0m  \u001b[37m█\u001b[0m  \u001b[37m█\u001b[0m  █  \u001b[32m█\u001b[0m  █  █  \u001b[37m█\u001b[0m  \u001b[37m█\u001b[0m  \u001b[37m█\u001b[0m  \u001b[37m█\u001b[0m  \u001b[37m█\u001b[0m  █  █  \u001b[33m█\u001b[0m  \n",
      "\n",
      "\u001b[37m█\u001b[0m  \u001b[37m█\u001b[0m  █  \u001b[37m█\u001b[0m  \u001b[32m█\u001b[0m  \u001b[32m█\u001b[0m  █  \u001b[37m█\u001b[0m  \u001b[37m█\u001b[0m  \u001b[37m█\u001b[0m  \u001b[37m█\u001b[0m  █  \u001b[37m█\u001b[0m  \u001b[37m█\u001b[0m  \u001b[37m█\u001b[0m  \u001b[37m█\u001b[0m  \n",
      "\n",
      "Sensor input: [[0, 1, 0, 1], [0, 1, 0, 1], [1, 0, 1, 0], [1, 0, 1, 0]]\n",
      "Expected path: [[2, 6], [3, 6], [4, 6], [4, 5]]\n",
      "Associated probability: [0.00789786227725075, 8.90977588152351e-06, 3.6285340708000804e-06, 3.6285340708000804e-06]\n",
      "Wumpus probability: 0.00704095241418758\n",
      "Gold probability: 1.2796049699080738e-08\n"
     ]
    }
   ],
   "source": [
    "#            WE         WE       NS         NS\n",
    "sensor = [[0,1,0,1],[0,1,0,1],[1,0,1,0],[1,0,1,0]]\n",
    "\n",
    "wumpus, gold, path, prob = viterbi(sensor, 0.05)\n",
    "path = list(map(lambda s: states[s], path))\n",
    "graph(path)\n",
    "print(\"Sensor input:\", sensor)\n",
    "print(\"Expected path:\", path)\n",
    "print(\"Associated probability:\", prob)\n",
    "print(\"Wumpus probability:\", wumpus)\n",
    "print(\"Gold probability:\", gold)"
   ]
  },
  {
   "cell_type": "markdown",
   "metadata": {},
   "source": [
    "## E4 and Epsilon = 0.2"
   ]
  },
  {
   "cell_type": "code",
   "execution_count": 341,
   "metadata": {},
   "outputs": [
    {
     "name": "stdout",
     "output_type": "stream",
     "text": [
      "\u001b[37m█\u001b[0m  \u001b[37m█\u001b[0m  \u001b[37m█\u001b[0m  \u001b[37m█\u001b[0m  █  \u001b[37m█\u001b[0m  \u001b[37m█\u001b[0m  \u001b[37m█\u001b[0m  \u001b[37m█\u001b[0m  \u001b[31m█\u001b[0m  █  \u001b[37m█\u001b[0m  \u001b[37m█\u001b[0m  \u001b[37m█\u001b[0m  █  \u001b[37m█\u001b[0m  \n",
      "\n",
      "█  █  \u001b[37m█\u001b[0m  \u001b[32m█\u001b[0m  █  \u001b[37m█\u001b[0m  █  █  \u001b[37m█\u001b[0m  █  \u001b[37m█\u001b[0m  █  \u001b[37m█\u001b[0m  █  █  █  \n",
      "\n",
      "█  \u001b[37m█\u001b[0m  \u001b[37m█\u001b[0m  \u001b[32m█\u001b[0m  █  \u001b[37m█\u001b[0m  █  █  \u001b[37m█\u001b[0m  \u001b[37m█\u001b[0m  \u001b[37m█\u001b[0m  \u001b[37m█\u001b[0m  \u001b[37m█\u001b[0m  █  █  \u001b[33m█\u001b[0m  \n",
      "\n",
      "\u001b[37m█\u001b[0m  \u001b[37m█\u001b[0m  █  \u001b[32m█\u001b[0m  \u001b[37m█\u001b[0m  \u001b[37m█\u001b[0m  █  \u001b[37m█\u001b[0m  \u001b[37m█\u001b[0m  \u001b[37m█\u001b[0m  \u001b[37m█\u001b[0m  █  \u001b[37m█\u001b[0m  \u001b[37m█\u001b[0m  \u001b[37m█\u001b[0m  \u001b[37m█\u001b[0m  \n",
      "\n",
      "Sensor input: [[0, 1, 0, 0], [0, 1, 0, 0], [0, 1, 0, 0], [1, 0, 1, 1]]\n",
      "Expected path: [[3, 4], [2, 4], [3, 4], [4, 4]]\n",
      "Associated probability: [0.0013315250793650792, 0.00018179755750264548, 6.205356629423633e-06, 6.205356629423633e-06]\n",
      "Wumpus probability: 0.0001267400350647431\n",
      "Gold probability: 0.002281320631165374\n"
     ]
    }
   ],
   "source": [
    "#            E          E         E        NSW\n",
    "sensor = [[0,1,0,0],[0,1,0,0],[0,1,0,0],[1,0,1,1]]\n",
    "\n",
    "wumpus, gold, path, prob = viterbi(sensor, 0.2)\n",
    "path = list(map(lambda s: states[s], path))\n",
    "graph(path)\n",
    "print(\"Sensor input:\", sensor)\n",
    "print(\"Expected path:\", path)\n",
    "print(\"Associated probability:\", prob)\n",
    "print(\"Wumpus probability:\", wumpus)\n",
    "print(\"Gold probability:\", gold)"
   ]
  },
  {
   "cell_type": "markdown",
   "metadata": {},
   "source": [
    "## E4 and Epsilon = 0.05"
   ]
  },
  {
   "cell_type": "code",
   "execution_count": 342,
   "metadata": {},
   "outputs": [
    {
     "name": "stdout",
     "output_type": "stream",
     "text": [
      "\u001b[37m█\u001b[0m  \u001b[37m█\u001b[0m  \u001b[37m█\u001b[0m  \u001b[37m█\u001b[0m  █  \u001b[37m█\u001b[0m  \u001b[37m█\u001b[0m  \u001b[37m█\u001b[0m  \u001b[37m█\u001b[0m  \u001b[31m█\u001b[0m  █  \u001b[37m█\u001b[0m  \u001b[37m█\u001b[0m  \u001b[37m█\u001b[0m  █  \u001b[37m█\u001b[0m  \n",
      "\n",
      "█  █  \u001b[37m█\u001b[0m  \u001b[32m█\u001b[0m  █  \u001b[37m█\u001b[0m  █  █  \u001b[37m█\u001b[0m  █  \u001b[37m█\u001b[0m  █  \u001b[37m█\u001b[0m  █  █  █  \n",
      "\n",
      "█  \u001b[37m█\u001b[0m  \u001b[37m█\u001b[0m  \u001b[32m█\u001b[0m  █  \u001b[37m█\u001b[0m  █  █  \u001b[37m█\u001b[0m  \u001b[37m█\u001b[0m  \u001b[37m█\u001b[0m  \u001b[37m█\u001b[0m  \u001b[37m█\u001b[0m  █  █  \u001b[33m█\u001b[0m  \n",
      "\n",
      "\u001b[37m█\u001b[0m  \u001b[37m█\u001b[0m  █  \u001b[32m█\u001b[0m  \u001b[37m█\u001b[0m  \u001b[37m█\u001b[0m  █  \u001b[37m█\u001b[0m  \u001b[37m█\u001b[0m  \u001b[37m█\u001b[0m  \u001b[37m█\u001b[0m  █  \u001b[37m█\u001b[0m  \u001b[37m█\u001b[0m  \u001b[37m█\u001b[0m  \u001b[37m█\u001b[0m  \n",
      "\n",
      "Sensor input: [[0, 1, 0, 0], [0, 1, 0, 0], [0, 1, 0, 0], [1, 0, 1, 1]]\n",
      "Expected path: [[3, 4], [2, 4], [3, 4], [4, 4]]\n",
      "Associated probability: [0.0052652415181671675, 0.0014295240414355496, 2.0427302917096747e-05, 2.0427302917096747e-05]\n",
      "Wumpus probability: 2.492463130585615e-08\n",
      "Gold probability: 2.1310559766506973e-06\n"
     ]
    }
   ],
   "source": [
    "#            E          E         E        NSW\n",
    "sensor = [[0,1,0,0],[0,1,0,0],[0,1,0,0],[1,0,1,1]]\n",
    "\n",
    "wumpus, gold, path, prob = viterbi(sensor, 0.05)\n",
    "path = list(map(lambda s: states[s], path))\n",
    "graph(path)\n",
    "print(\"Sensor input:\", sensor)\n",
    "print(\"Expected path:\", path)\n",
    "print(\"Associated probability:\", prob)\n",
    "print(\"Wumpus probability:\", wumpus)\n",
    "print(\"Gold probability:\", gold)"
   ]
  }
 ],
 "metadata": {
  "kernelspec": {
   "display_name": "Python 3",
   "language": "python",
   "name": "python3"
  },
  "language_info": {
   "codemirror_mode": {
    "name": "ipython",
    "version": 3
   },
   "file_extension": ".py",
   "mimetype": "text/x-python",
   "name": "python",
   "nbconvert_exporter": "python",
   "pygments_lexer": "ipython3",
   "version": "3.6.4"
  }
 },
 "nbformat": 4,
 "nbformat_minor": 2
}
